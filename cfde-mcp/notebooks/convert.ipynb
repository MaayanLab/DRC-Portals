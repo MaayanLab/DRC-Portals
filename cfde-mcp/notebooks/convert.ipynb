{
 "cells": [
  {
   "cell_type": "code",
   "execution_count": 23,
   "id": "8e1861ee",
   "metadata": {},
   "outputs": [],
   "source": [
    "import json"
   ]
  },
  {
   "cell_type": "code",
   "execution_count": 24,
   "id": "adad6205",
   "metadata": {},
   "outputs": [
    {
     "data": {
      "text/plain": [
       "list"
      ]
     },
     "execution_count": 24,
     "metadata": {},
     "output_type": "execute_result"
    }
   ],
   "source": [
    "with open(\"../../drc-portals/components/Chat/setup/functions.json\") as o:\n",
    "\tfunctions = json.loads(o.read())\n",
    "type(functions)"
   ]
  },
  {
   "cell_type": "code",
   "execution_count": 25,
   "id": "82f9950d",
   "metadata": {},
   "outputs": [],
   "source": [
    "with open(\"./template.txt\") as o:\n",
    "\ttemplate = o.read()"
   ]
  },
  {
   "cell_type": "code",
   "execution_count": 26,
   "id": "6add04b8",
   "metadata": {},
   "outputs": [
    {
     "data": {
      "text/plain": [
       "{'type': 'function',\n",
       " 'function': {'name': 'ARCHS4GeneExpression',\n",
       "  'description': 'Z-scored gene expression across tissues from ARCHS4. Takes a single gene as an input',\n",
       "  'parameters': {'type': 'object',\n",
       "   'properties': {'geneSymbol': {'type': 'string',\n",
       "     'description': 'Gene symbol'}},\n",
       "   'required': ['geneSymbol']}}}"
      ]
     },
     "execution_count": 26,
     "metadata": {},
     "output_type": "execute_result"
    }
   ],
   "source": [
    "functions[2]\n",
    "\n",
    "# vars\n",
    "# class_name\n",
    "# description\n",
    "# inputSchema\n",
    "# outputSchema\n",
    "# input\n",
    "# inputType\n",
    "# output"
   ]
  },
  {
   "cell_type": "code",
   "execution_count": 40,
   "id": "80c553e1",
   "metadata": {},
   "outputs": [],
   "source": [
    "for i in functions:\n",
    "\tfunc = i.get('function')\n",
    "\tif func:\n",
    "\t\tclass_name = func[\"name\"]\n",
    "\t\tclass_name = func[\"name\"]\n",
    "\t\tdescription = func[\"description\"]\n",
    "\t\trequired = func.get('required', [])\n",
    "\t\tprops = func['parameters']['properties']\n",
    "\t\tinput_schema = {}\n",
    "\t\tinp = []\n",
    "\t\tinputType = []\n",
    "\t\toutput_schema = {\n",
    "\t\t\t\"function\": 'z.string().describe(\"Function to run\")'\n",
    "\t\t}\n",
    "\t\toutput = {\n",
    "\t\t\t\"function\": class_name,\n",
    "\t\t}\n",
    "\t\tfor k,v in props.items():\n",
    "\t\t\tsch = f\"z.{v['type']}()\"\n",
    "\t\t\tout_sch = f\"z.{v['type']}()\"\n",
    "\t\t\tif k not in required:\n",
    "\t\t\t\tsch = f\"{sch}.optional()\"\n",
    "\t\t\t\tout_sch = f\"{sch}.nullable()\"\n",
    "\t\t\tsch = f'{sch}.describe(\"{v['description']}\")'\n",
    "\t\t\tout_sch = f'{out_sch}.describe(\"{v['description']}\")'\n",
    "\t\t\tinput_schema[k] = sch\n",
    "\t\t\toutput_schema[k] = out_sch\n",
    "\t\t\tinp.append(k)\n",
    "\t\t\tinputType.append(f\"{k}: {v['type']}\")\n",
    "\t\t\toutput[k] = k\n",
    "\t\tformatted = template\n",
    "\t\tformatted = formatted.replace('{class_name}', class_name)\n",
    "\t\tformatted = formatted.replace('{description}', description)\n",
    "\t\tformatted = formatted.replace('{inputSchema}', json.dumps(input_schema, indent=4).replace('\"z', 'z').replace(')\"', ')').replace('\\\\',''))\n",
    "\t\tformatted = formatted.replace('{outputSchema}', json.dumps(output_schema, indent=4).replace('\"z', 'z').replace(')\"', ')').replace('\\\\',''))\n",
    "\t\tformatted = formatted.replace('{input}', \", \".join(inp))\n",
    "\t\tformatted = formatted.replace('{inputType}', \", \".join(inputType))\n",
    "\t\toutput = json.dumps(output, indent=4)\n",
    "\t\t# output = output.replace(f'\"{class_name}\"', f'{class_name}')\n",
    "\t\tfor i in inp:\n",
    "\t\t\toutput = output.replace(f'\"{i}\": \"{i}\"', f'{i}')\n",
    "\t\tformatted = formatted.replace('{output}', output)\n",
    "\t\twith open(f\"tools/{class_name}Tool.ts\", \"w\") as w:\n",
    "\t\t\tw.write(formatted)\n"
   ]
  },
  {
   "cell_type": "code",
   "execution_count": 36,
   "id": "15deaa11",
   "metadata": {},
   "outputs": [
    {
     "data": {
      "text/plain": [
       "'{\\n    \"function\": PhenotypeSmallMolecules,\\n    glycan\"\\n}'"
      ]
     },
     "execution_count": 36,
     "metadata": {},
     "output_type": "execute_result"
    }
   ],
   "source": [
    "output"
   ]
  },
  {
   "cell_type": "code",
   "execution_count": null,
   "id": "e9396a92",
   "metadata": {},
   "outputs": [],
   "source": []
  }
 ],
 "metadata": {
  "kernelspec": {
   "display_name": ".venv",
   "language": "python",
   "name": "python3"
  },
  "language_info": {
   "codemirror_mode": {
    "name": "ipython",
    "version": 3
   },
   "file_extension": ".py",
   "mimetype": "text/x-python",
   "name": "python",
   "nbconvert_exporter": "python",
   "pygments_lexer": "ipython3",
   "version": "3.12.8"
  }
 },
 "nbformat": 4,
 "nbformat_minor": 5
}
