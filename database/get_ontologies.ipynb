{
 "cells": [
  {
   "cell_type": "code",
   "execution_count": null,
   "metadata": {},
   "outputs": [],
   "source": [
    "import requests"
   ]
  },
  {
   "cell_type": "code",
   "execution_count": null,
   "metadata": {},
   "outputs": [],
   "source": [
    "def extract_ontologies(link, ontologies_list):\n",
    "    response = requests.get(link)\n",
    "    response_json = response.json()\n",
    "    ontologies_dict_list = response_json[\"_embedded\"][\"ontologies\"]\n",
    "    ontologies_ids = [ontology[\"config\"][\"preferredPrefix\"] for ontology in ontologies_dict_list]\n",
    "    new_ontologies_list = ontologies_list + ontologies_ids\n",
    "    if link != response_json[\"_links\"][\"last\"][\"href\"]:\n",
    "        next_link = response_json[\"_links\"][\"next\"][\"href\"]\n",
    "        return extract_ontologies(next_link, new_ontologies_list)\n",
    "    else: \n",
    "        return new_ontologies_list\n",
    "\n",
    "ontologies_list = extract_ontologies(\"https://www.ebi.ac.uk/ols4/api/ontologies?lang=en\", [])"
   ]
  },
  {
   "cell_type": "code",
   "execution_count": null,
   "metadata": {},
   "outputs": [],
   "source": [
    "filtered_ontologies = [ontology for ontology in ontologies_list if ontology != None]\n",
    "filtered_ontologies"
   ]
  },
  {
   "cell_type": "code",
   "execution_count": null,
   "metadata": {},
   "outputs": [],
   "source": [
    "with open('./ingest/fair_assessment/ontologies.txt', 'w') as f:\n",
    "    for ontology_id in filtered_ontologies:\n",
    "        f.write(f\"{ontology_id}\\n\")"
   ]
  }
 ],
 "metadata": {
  "language_info": {
   "name": "python"
  },
  "orig_nbformat": 4
 },
 "nbformat": 4,
 "nbformat_minor": 2
}
