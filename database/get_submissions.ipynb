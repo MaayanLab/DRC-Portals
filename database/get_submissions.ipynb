{
 "cells": [
  {
   "cell_type": "markdown",
   "metadata": {},
   "source": []
  },
  {
   "cell_type": "code",
   "execution_count": 1,
   "metadata": {},
   "outputs": [],
   "source": [
    "import pandas as pd\n",
    "import datetime"
   ]
  },
  {
   "cell_type": "code",
   "execution_count": 2,
   "metadata": {},
   "outputs": [
    {
     "data": {
      "text/html": [
       "<div>\n",
       "<style scoped>\n",
       "    .dataframe tbody tr th:only-of-type {\n",
       "        vertical-align: middle;\n",
       "    }\n",
       "\n",
       "    .dataframe tbody tr th {\n",
       "        vertical-align: top;\n",
       "    }\n",
       "\n",
       "    .dataframe thead th {\n",
       "        text-align: right;\n",
       "    }\n",
       "</style>\n",
       "<table border=\"1\" class=\"dataframe\">\n",
       "  <thead>\n",
       "    <tr style=\"text-align: right;\">\n",
       "      <th></th>\n",
       "      <th>link</th>\n",
       "      <th>lastmodified</th>\n",
       "      <th>current</th>\n",
       "      <th>creator</th>\n",
       "      <th>dcc_id</th>\n",
       "      <th>drcapproved</th>\n",
       "      <th>dccapproved</th>\n",
       "      <th>deleted</th>\n",
       "      <th>created</th>\n",
       "    </tr>\n",
       "  </thead>\n",
       "  <tbody>\n",
       "    <tr>\n",
       "      <th>0</th>\n",
       "      <td>https://zinc15.docking.org/substances/search/?...</td>\n",
       "      <td>2024-03-08 00:15:43.332</td>\n",
       "      <td>True</td>\n",
       "      <td>NaN</td>\n",
       "      <td>a1289ebb-0306-59a1-b0fc-e4d03a4790d7</td>\n",
       "      <td>True</td>\n",
       "      <td>True</td>\n",
       "      <td>False</td>\n",
       "      <td>2024-03-08 00:15:43.332</td>\n",
       "    </tr>\n",
       "    <tr>\n",
       "      <th>1</th>\n",
       "      <td>https://www.gtexportal.org/home/gene/{gene.ens...</td>\n",
       "      <td>2024-03-08 00:18:20.759</td>\n",
       "      <td>True</td>\n",
       "      <td>NaN</td>\n",
       "      <td>b3028db2-209c-5862-8f4d-33c5b312332e</td>\n",
       "      <td>True</td>\n",
       "      <td>False</td>\n",
       "      <td>False</td>\n",
       "      <td>2024-03-08 00:18:20.759</td>\n",
       "    </tr>\n",
       "    <tr>\n",
       "      <th>2</th>\n",
       "      <td>https://drugcentral.org/?q={drug.label}</td>\n",
       "      <td>2024-03-08 00:15:16.867</td>\n",
       "      <td>True</td>\n",
       "      <td>NaN</td>\n",
       "      <td>a1289ebb-0306-59a1-b0fc-e4d03a4790d7</td>\n",
       "      <td>True</td>\n",
       "      <td>True</td>\n",
       "      <td>False</td>\n",
       "      <td>2024-03-08 00:15:16.867</td>\n",
       "    </tr>\n",
       "    <tr>\n",
       "      <th>3</th>\n",
       "      <td>https://idg.reactome.org/search/{gene.symbol}</td>\n",
       "      <td>2024-03-08 00:14:30.105</td>\n",
       "      <td>True</td>\n",
       "      <td>NaN</td>\n",
       "      <td>a1289ebb-0306-59a1-b0fc-e4d03a4790d7</td>\n",
       "      <td>True</td>\n",
       "      <td>False</td>\n",
       "      <td>False</td>\n",
       "      <td>2024-03-08 00:14:30.105</td>\n",
       "    </tr>\n",
       "    <tr>\n",
       "      <th>4</th>\n",
       "      <td>https://maayanlab.cloud/sigcom-lincs/#/Metadat...</td>\n",
       "      <td>2024-03-08 00:06:57.680</td>\n",
       "      <td>True</td>\n",
       "      <td>NaN</td>\n",
       "      <td>f3f490cf-fd69-579c-8ea3-472c7cf3fb59</td>\n",
       "      <td>True</td>\n",
       "      <td>True</td>\n",
       "      <td>False</td>\n",
       "      <td>2024-03-08 00:06:57.680</td>\n",
       "    </tr>\n",
       "  </tbody>\n",
       "</table>\n",
       "</div>"
      ],
      "text/plain": [
       "                                                link             lastmodified  \\\n",
       "0  https://zinc15.docking.org/substances/search/?...  2024-03-08 00:15:43.332   \n",
       "1  https://www.gtexportal.org/home/gene/{gene.ens...  2024-03-08 00:18:20.759   \n",
       "2            https://drugcentral.org/?q={drug.label}  2024-03-08 00:15:16.867   \n",
       "3      https://idg.reactome.org/search/{gene.symbol}  2024-03-08 00:14:30.105   \n",
       "4  https://maayanlab.cloud/sigcom-lincs/#/Metadat...  2024-03-08 00:06:57.680   \n",
       "\n",
       "   current  creator                                dcc_id  drcapproved  \\\n",
       "0     True      NaN  a1289ebb-0306-59a1-b0fc-e4d03a4790d7         True   \n",
       "1     True      NaN  b3028db2-209c-5862-8f4d-33c5b312332e         True   \n",
       "2     True      NaN  a1289ebb-0306-59a1-b0fc-e4d03a4790d7         True   \n",
       "3     True      NaN  a1289ebb-0306-59a1-b0fc-e4d03a4790d7         True   \n",
       "4     True      NaN  f3f490cf-fd69-579c-8ea3-472c7cf3fb59         True   \n",
       "\n",
       "   dccapproved  deleted                  created  \n",
       "0         True    False  2024-03-08 00:15:43.332  \n",
       "1        False    False  2024-03-08 00:18:20.759  \n",
       "2         True    False  2024-03-08 00:15:16.867  \n",
       "3        False    False  2024-03-08 00:14:30.105  \n",
       "4         True    False  2024-03-08 00:06:57.680  "
      ]
     },
     "execution_count": 2,
     "metadata": {},
     "output_type": "execute_result"
    }
   ],
   "source": [
    "dcc_assets = pd.read_csv('current/current_dcc_assets.tsv', sep=\"\\t\")\n",
    "dcc_assets.head()"
   ]
  },
  {
   "cell_type": "code",
   "execution_count": 3,
   "metadata": {},
   "outputs": [],
   "source": [
    "current_dcc_assets = dcc_assets[dcc_assets.created.apply(lambda x: datetime.datetime.strptime(x, \"%Y-%m-%d %H:%M:%S.%f\")) > datetime.datetime(2024, 6, 15, 23, 59, 59)]"
   ]
  },
  {
   "cell_type": "code",
   "execution_count": 4,
   "metadata": {},
   "outputs": [],
   "source": [
    "dcc = pd.read_csv(\"https://cfde-drc.s3.amazonaws.com/database/files/current_dccs.tsv\", sep=\"\\t\", index_col=0)"
   ]
  },
  {
   "cell_type": "code",
   "execution_count": 5,
   "metadata": {},
   "outputs": [
    {
     "name": "stderr",
     "output_type": "stream",
     "text": [
      "/var/folders/wq/7bkxhy8j7ql194c1fbby4gy40000gn/T/ipykernel_58876/1305888965.py:1: SettingWithCopyWarning: \n",
      "A value is trying to be set on a copy of a slice from a DataFrame.\n",
      "Try using .loc[row_indexer,col_indexer] = value instead\n",
      "\n",
      "See the caveats in the documentation: https://pandas.pydata.org/pandas-docs/stable/user_guide/indexing.html#returning-a-view-versus-a-copy\n",
      "  current_dcc_assets[\"DCC\"] = [dcc.loc[i, 'short_label'] for i in current_dcc_assets.dcc_id]\n"
     ]
    }
   ],
   "source": [
    "current_dcc_assets[\"DCC\"] = [dcc.loc[i, 'short_label'] for i in current_dcc_assets.dcc_id]"
   ]
  },
  {
   "cell_type": "code",
   "execution_count": 6,
   "metadata": {},
   "outputs": [
    {
     "data": {
      "text/html": [
       "<div>\n",
       "<style scoped>\n",
       "    .dataframe tbody tr th:only-of-type {\n",
       "        vertical-align: middle;\n",
       "    }\n",
       "\n",
       "    .dataframe tbody tr th {\n",
       "        vertical-align: top;\n",
       "    }\n",
       "\n",
       "    .dataframe thead th {\n",
       "        text-align: right;\n",
       "    }\n",
       "</style>\n",
       "<table border=\"1\" class=\"dataframe\">\n",
       "  <thead>\n",
       "    <tr style=\"text-align: right;\">\n",
       "      <th></th>\n",
       "      <th>filetype</th>\n",
       "      <th>filename</th>\n",
       "      <th>size</th>\n",
       "      <th>sha256checksum</th>\n",
       "    </tr>\n",
       "    <tr>\n",
       "      <th>link</th>\n",
       "      <th></th>\n",
       "      <th></th>\n",
       "      <th></th>\n",
       "      <th></th>\n",
       "    </tr>\n",
       "  </thead>\n",
       "  <tbody>\n",
       "    <tr>\n",
       "      <th>https://cfde-drc.s3.amazonaws.com/GTEx/C2M2/2022-01-18/GTEx_C2M2_2022-01-18_datapackage.zip</th>\n",
       "      <td>C2M2</td>\n",
       "      <td>datapackage.zip</td>\n",
       "      <td>384717</td>\n",
       "      <td>NaN</td>\n",
       "    </tr>\n",
       "    <tr>\n",
       "      <th>https://cfde-drc.s3.amazonaws.com/GTEx/C2M2/2022-04-07/GTEx_C2M2_2022-04-07_datapackage.zip</th>\n",
       "      <td>C2M2</td>\n",
       "      <td>datapackage.zip</td>\n",
       "      <td>729801</td>\n",
       "      <td>NaN</td>\n",
       "    </tr>\n",
       "    <tr>\n",
       "      <th>https://cfde-drc.s3.amazonaws.com/GTEx/C2M2/2022-06-17/GTEx_C2M2_2022-06-17_datapackage.zip</th>\n",
       "      <td>C2M2</td>\n",
       "      <td>datapackage.zip</td>\n",
       "      <td>753127</td>\n",
       "      <td>NaN</td>\n",
       "    </tr>\n",
       "    <tr>\n",
       "      <th>https://cfde-drc.s3.amazonaws.com/GTEx/C2M2/2023-09-01/GTEx_C2M2_2023-09-01_datapackage.zip</th>\n",
       "      <td>C2M2</td>\n",
       "      <td>datapackage.zip</td>\n",
       "      <td>9288164172</td>\n",
       "      <td>NaN</td>\n",
       "    </tr>\n",
       "    <tr>\n",
       "      <th>https://cfde-drc.s3.amazonaws.com/GlyGen/C2M2/2022-04-15/GlyGen_C2M2_2022-04-15_datapackage.zip</th>\n",
       "      <td>C2M2</td>\n",
       "      <td>datapackage.zip</td>\n",
       "      <td>4059608</td>\n",
       "      <td>NaN</td>\n",
       "    </tr>\n",
       "  </tbody>\n",
       "</table>\n",
       "</div>"
      ],
      "text/plain": [
       "                                                   filetype         filename  \\\n",
       "link                                                                           \n",
       "https://cfde-drc.s3.amazonaws.com/GTEx/C2M2/202...     C2M2  datapackage.zip   \n",
       "https://cfde-drc.s3.amazonaws.com/GTEx/C2M2/202...     C2M2  datapackage.zip   \n",
       "https://cfde-drc.s3.amazonaws.com/GTEx/C2M2/202...     C2M2  datapackage.zip   \n",
       "https://cfde-drc.s3.amazonaws.com/GTEx/C2M2/202...     C2M2  datapackage.zip   \n",
       "https://cfde-drc.s3.amazonaws.com/GlyGen/C2M2/2...     C2M2  datapackage.zip   \n",
       "\n",
       "                                                          size sha256checksum  \n",
       "link                                                                           \n",
       "https://cfde-drc.s3.amazonaws.com/GTEx/C2M2/202...      384717            NaN  \n",
       "https://cfde-drc.s3.amazonaws.com/GTEx/C2M2/202...      729801            NaN  \n",
       "https://cfde-drc.s3.amazonaws.com/GTEx/C2M2/202...      753127            NaN  \n",
       "https://cfde-drc.s3.amazonaws.com/GTEx/C2M2/202...  9288164172            NaN  \n",
       "https://cfde-drc.s3.amazonaws.com/GlyGen/C2M2/2...     4059608            NaN  "
      ]
     },
     "execution_count": 6,
     "metadata": {},
     "output_type": "execute_result"
    }
   ],
   "source": [
    "file_assets = pd.read_csv(\"https://cfde-drc.s3.amazonaws.com/database/files/current_file_assets.tsv\", sep=\"\\t\")\n",
    "file_assets = file_assets.set_index(\"link\")\n",
    "file_assets.head()"
   ]
  },
  {
   "cell_type": "code",
   "execution_count": 7,
   "metadata": {},
   "outputs": [
    {
     "data": {
      "text/html": [
       "<div>\n",
       "<style scoped>\n",
       "    .dataframe tbody tr th:only-of-type {\n",
       "        vertical-align: middle;\n",
       "    }\n",
       "\n",
       "    .dataframe tbody tr th {\n",
       "        vertical-align: top;\n",
       "    }\n",
       "\n",
       "    .dataframe thead th {\n",
       "        text-align: right;\n",
       "    }\n",
       "</style>\n",
       "<table border=\"1\" class=\"dataframe\">\n",
       "  <thead>\n",
       "    <tr style=\"text-align: right;\">\n",
       "      <th></th>\n",
       "      <th>type</th>\n",
       "      <th>name</th>\n",
       "      <th>description</th>\n",
       "      <th>openAPISpec</th>\n",
       "      <th>smartAPISpec</th>\n",
       "      <th>smartAPIURL</th>\n",
       "      <th>entityPageExample</th>\n",
       "    </tr>\n",
       "    <tr>\n",
       "      <th>link</th>\n",
       "      <th></th>\n",
       "      <th></th>\n",
       "      <th></th>\n",
       "      <th></th>\n",
       "      <th></th>\n",
       "      <th></th>\n",
       "      <th></th>\n",
       "    </tr>\n",
       "  </thead>\n",
       "  <tbody>\n",
       "  </tbody>\n",
       "</table>\n",
       "</div>"
      ],
      "text/plain": [
       "Empty DataFrame\n",
       "Columns: [type, name, description, openAPISpec, smartAPISpec, smartAPIURL, entityPageExample]\n",
       "Index: []"
      ]
     },
     "execution_count": 7,
     "metadata": {},
     "output_type": "execute_result"
    }
   ],
   "source": [
    "code_assets = pd.read_csv(\"https://cfde-drc.s3.amazonaws.com/database/files/current_code_assets.tsv\", sep=\"\\t\")\n",
    "code_assets = code_assets.set_index(\"link\")\n",
    "code_assets.head()"
   ]
  },
  {
   "cell_type": "code",
   "execution_count": 12,
   "metadata": {},
   "outputs": [
    {
     "name": "stderr",
     "output_type": "stream",
     "text": [
      "/var/folders/wq/7bkxhy8j7ql194c1fbby4gy40000gn/T/ipykernel_58876/3543977168.py:1: SettingWithCopyWarning: \n",
      "A value is trying to be set on a copy of a slice from a DataFrame.\n",
      "Try using .loc[row_indexer,col_indexer] = value instead\n",
      "\n",
      "See the caveats in the documentation: https://pandas.pydata.org/pandas-docs/stable/user_guide/indexing.html#returning-a-view-versus-a-copy\n",
      "  current_dcc_assets['Asset Type'] = ''\n"
     ]
    }
   ],
   "source": [
    "current_dcc_assets['Asset Type'] = ''\n",
    "for k,v in current_dcc_assets.iterrows():\n",
    "\tlink = v[\"link\"]\n",
    "\t# asset = file_assets.loc[link, 'filetype'] if link in file_assets.index else code_assets.loc[link, 'type']\n",
    "\tasset = file_assets.loc[link, 'filetype'] if link in file_assets.index else 'ETL'\n",
    "\tcurrent_dcc_assets.loc[k, 'Asset Type'] = asset"
   ]
  },
  {
   "cell_type": "code",
   "execution_count": 16,
   "metadata": {},
   "outputs": [],
   "source": [
    "current_dcc_assets[['DCC', 'Asset Type', 'dccapproved', 'drcapproved', 'created']].to_csv(\"092024submissions.tsv\", sep=\"\\t\", index=False)"
   ]
  },
  {
   "cell_type": "code",
   "execution_count": 18,
   "metadata": {},
   "outputs": [
    {
     "data": {
      "text/plain": [
       "(89, 8)"
      ]
     },
     "execution_count": 18,
     "metadata": {},
     "output_type": "execute_result"
    }
   ],
   "source": [
    "pd.read_csv('sample.tsv', sep=\"\\t\").shape"
   ]
  },
  {
   "cell_type": "code",
   "execution_count": null,
   "metadata": {},
   "outputs": [],
   "source": []
  }
 ],
 "metadata": {
  "kernelspec": {
   "display_name": "venv",
   "language": "python",
   "name": "python3"
  },
  "language_info": {
   "codemirror_mode": {
    "name": "ipython",
    "version": 3
   },
   "file_extension": ".py",
   "mimetype": "text/x-python",
   "name": "python",
   "nbconvert_exporter": "python",
   "pygments_lexer": "ipython3",
   "version": "3.10.14"
  }
 },
 "nbformat": 4,
 "nbformat_minor": 2
}
